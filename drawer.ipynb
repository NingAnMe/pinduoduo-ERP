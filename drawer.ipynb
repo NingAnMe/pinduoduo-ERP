{
 "cells": [
  {
   "cell_type": "code",
   "execution_count": 1,
   "outputs": [],
   "source": [
    "import os\n",
    "from selenium import webdriver\n",
    "from selenium.webdriver.chrome.options import Options\n",
    "from browsermobproxy import Server"
   ],
   "metadata": {
    "collapsed": false,
    "pycharm": {
     "name": "#%%\n",
     "is_executing": false
    }
   }
  },
  {
   "cell_type": "code",
   "execution_count": 2,
   "outputs": [],
   "source": [
    "server = Server(r'browsermob-proxy-2.1.4\\bin\\browsermob-proxy.bat')\n",
    "server.start()\n",
    "proxy = server.create_proxy()"
   ],
   "metadata": {
    "collapsed": false,
    "pycharm": {
     "name": "#%%\n",
     "is_executing": false
    }
   }
  },
  {
   "cell_type": "code",
   "execution_count": 3,
   "metadata": {
    "collapsed": true,
    "pycharm": {
     "is_executing": false
    }
   },
   "outputs": [
    {
     "name": "stdout",
     "text": [
      "打开浏览器\n",
      "最大化窗口\n"
     ],
     "output_type": "stream"
    },
    {
     "data": {
      "text/plain": "{'identifier': '2'}"
     },
     "metadata": {},
     "output_type": "execute_result",
     "execution_count": 3
    }
   ],
   "source": [
    "options = Options()\n",
    "options.add_experimental_option('excludeSwitches', ['enable-automation'])\n",
    "options.add_experimental_option('useAutomationExtension', False)\n",
    "\n",
    "options.add_argument('--proxy-server={0}'.format(proxy.proxy))\n",
    "print('打开浏览器')\n",
    "driver = webdriver.Chrome(executable_path=os.path.abspath(\"chromedriver_win32/chromedriver.exe\"), options=options)\n",
    "\n",
    "print('最大化窗口')\n",
    "# driver.maximize_window()\n",
    "driver.set_window_size(1080, 720)\n",
    "driver.execute_cdp_cmd(\"Page.addScriptToEvaluateOnNewDocument\", {\n",
    "  \"source\": \"\"\"\n",
    "    Object.defineProperty(navigator, 'webdriver', {\n",
    "      get: () => undefined\n",
    "    })\n",
    "  \"\"\"\n",
    "})"
   ]
  },
  {
   "cell_type": "code",
   "execution_count": 4,
   "outputs": [
    {
     "data": {
      "text/plain": "(204, None)"
     },
     "metadata": {},
     "output_type": "execute_result",
     "execution_count": 4
    }
   ],
   "source": [
    "proxy.new_har(\"mms\", options={'captureHeaders': True, 'captureContent': True})"
   ],
   "metadata": {
    "collapsed": false,
    "pycharm": {
     "name": "#%%\n",
     "is_executing": false
    }
   }
  },
  {
   "cell_type": "code",
   "execution_count": 23,
   "outputs": [],
   "source": [
    "driver.get(\"https://www.iesdouyin.com/share/user/63174596206/\")"
   ],
   "metadata": {
    "collapsed": false,
    "pycharm": {
     "name": "#%%\n",
     "is_executing": false
    }
   }
  },
  {
   "cell_type": "code",
   "execution_count": 5,
   "outputs": [],
   "source": [
    "driver.get(\"https://mms.pinduoduo.com/\")"
   ],
   "metadata": {
    "collapsed": false,
    "pycharm": {
     "name": "#%%\n",
     "is_executing": false
    }
   }
  },
  {
   "cell_type": "code",
   "execution_count": 3,
   "outputs": [],
   "source": [
    "driver.get(\"https://mms.pinduoduo.com/goods/goods_list\")"
   ],
   "metadata": {
    "collapsed": false,
    "pycharm": {
     "name": "#%%\n",
     "is_executing": false
    }
   }
  },
  {
   "cell_type": "code",
   "source": [
    "cookies = driver.get_cookies()"
   ],
   "metadata": {
    "collapsed": false,
    "pycharm": {
     "name": "#%%\n",
     "is_executing": false
    }
   },
   "execution_count": 4,
   "outputs": []
  },
  {
   "cell_type": "code",
   "execution_count": null,
   "outputs": [],
   "source": [
    "fetch = (\"https://mms.pinduoduo.com/vodka/v2/mms/query/display/mall/goodsList\", {\n",
    "  \"headers\": {\n",
    "    \"accept\": \"application/json\",\n",
    "    \"accept-language\": \"zh-CN,zh;q=0.9\",\n",
    "    \"anti-content\": \"0aoAfxn5rOcYY9dVSR6VEGEH9_f_FQ2PS7Z_qopA3Z3t2s1FTOvTy4XV2pe5VyDO-Q6u-C_TlK0vPf6EXlz6ThCPe2EHU9r9KOtQ_fuF2jkY7aqQKjeidA_9XVDAg4zMCaI6jvSWduiThbBWUDiT73wS7YuiTybBqDPmE7sT9Ex2VFAWr0ZfwERH0ZaJwKfKLVLrwnmJZ8wMrUCQbu2AUrUN9uWHej5B1P3RkOkt1SltHoChvHKsbvNSvE6zxz1rFNyZ-sBL1doDibA0hXGv2P6Nrl1xHO61K1-Kef6UNgHo3FJzk1lHjadIOeVgKdvo9j_V65spwMzpj4pwQ3BDSZ31pAEJfkSBixVqUv0YiI4bXqTEejgi6JPmPiU4TygJ21lKDc4-JoD7OYpupE_CE3023EBvr5dUakPKElJ_cepR9ZrPKvWuGnFF4_lxVznyCEEXqHc3uXiypvsj3gSB-x6qVOHZiLFAAPQWGmuv_S8pXvSYsILSnRODnXUZMj3L8OaOUzDEeBFh-SawvlEqUqsgh_egqVsu6gtOH-ZInMbxfyoUu-rceVSWumzo8FQ5obD8kbw0mOUlTYQYJbSEhAHihRcnvPgCBHi9LV0Mn-OJhswIbuEJeQSt2Lhsxqzg8OhhGOL0HDGFCr\",\n",
    "    \"content-type\": \"application/json;charset=UTF-8\",\n",
    "    \"sec-fetch-dest\": \"empty\",\n",
    "    \"sec-fetch-mode\": \"cors\",\n",
    "    \"sec-fetch-site\": \"same-origin\",\n",
    "    \"verifyauthtoken\": \"1HBdvWHuanUsd-F4ziZr9A99c1fbf6310e6a2f1\"\n",
    "  },\n",
    "  \"referrer\": \"https://mms.pinduoduo.com/goods/goods_list\",\n",
    "  \"referrerPolicy\": \"no-referrer-when-downgrade\",\n",
    "  \"body\": \"{\\\"page\\\":1,\\\"size\\\":100}\",\n",
    "  \"method\": \"POST\",\n",
    "  \"mode\": \"cors\",\n",
    "  \"credentials\": \"include\"\n",
    "});"
   ],
   "metadata": {
    "collapsed": false,
    "pycharm": {
     "name": "#%%\n"
    }
   }
  },
  {
   "cell_type": "code",
   "execution_count": 6,
   "outputs": [],
   "source": [
    "driver.get(\"https://mms.pinduoduo.com/vodka/v2/mms/query/display/mall/goodsList\")"
   ],
   "metadata": {
    "collapsed": false,
    "pycharm": {
     "name": "#%%\n",
     "is_executing": false
    }
   }
  },
  {
   "cell_type": "code",
   "execution_count": 31,
   "outputs": [
    {
     "name": "stderr",
     "text": [
      "C:\\E\\ProgramWindows\\anaconda3\\lib\\site-packages\\ipykernel_launcher.py:13: DeprecationWarning: use options instead of chrome_options\n  del sys.path[0]\n"
     ],
     "output_type": "stream"
    }
   ],
   "source": [
    "from selenium import webdriver\n",
    "from browsermobproxy import Server\n",
    "\n",
    "from selenium.webdriver.chrome.options import Options\n",
    "\n",
    "server = Server(r'browsermob-proxy-2.1.4\\bin\\browsermob-proxy.bat')\n",
    "server.start()\n",
    "proxy = server.create_proxy()\n",
    "\n",
    "chrome_options = Options()\n",
    "chrome_options.add_argument('--proxy-server={0}'.format(proxy.proxy))\n",
    "\n",
    "driver = webdriver.Chrome(executable_path=os.path.abspath(\"chromedriver_win32/chromedriver.exe\"), chrome_options=chrome_options)\n",
    "\n",
    "base_url = \"https://www.iesdouyin.com/share/user/63174596206\"\n",
    "proxy.new_har(\"douyin\", options={'captureHeaders': True, 'captureContent': True})\n",
    "driver.get(base_url)\n",
    "\n",
    "# server.stop()\n",
    "# driver.quit()"
   ],
   "metadata": {
    "collapsed": false,
    "pycharm": {
     "name": "#%%\n",
     "is_executing": false
    }
   }
  },
  {
   "cell_type": "code",
   "execution_count": 33,
   "outputs": [],
   "source": [
    "result = proxy.har\n",
    "\n",
    "for entry in result['log']['entries']:\n",
    "    _url = entry['request']['url']\n",
    "    # 根据URL找到数据接口\n",
    "    if \"/api/v2/aweme/post\" in _url:\n",
    "        _response = entry['response']\n",
    "        _content = _response['content']['text']\n",
    "        # 获取接口返回内容\n",
    "        print(_content)"
   ],
   "metadata": {
    "collapsed": false,
    "pycharm": {
     "name": "#%%\n",
     "is_executing": false
    }
   }
  }
 ],
 "metadata": {
  "kernelspec": {
   "display_name": "Python 3",
   "language": "python",
   "name": "python3"
  },
  "language_info": {
   "codemirror_mode": {
    "name": "ipython",
    "version": 2
   },
   "file_extension": ".py",
   "mimetype": "text/x-python",
   "name": "python",
   "nbconvert_exporter": "python",
   "pygments_lexer": "ipython2",
   "version": "2.7.6"
  },
  "pycharm": {
   "stem_cell": {
    "cell_type": "raw",
    "source": [],
    "metadata": {
     "collapsed": false
    }
   }
  }
 },
 "nbformat": 4,
 "nbformat_minor": 0
}